{
 "cells": [
  {
   "cell_type": "code",
   "execution_count": 2,
   "id": "1ed015ac-87c2-4186-917a-f6e7e2639e69",
   "metadata": {},
   "outputs": [
    {
     "name": "stdout",
     "output_type": "stream",
     "text": [
      "{'Description': 'kNN final performance test.', 'Pipeline': \"{'Game to vec': FunctionTransformer(func=<function games_to_opening_vecs at 0x000001AA4491E0C0>), 'kNN': KNeighborsRegressor(metric='hamming', n_neighbors=12,\\n                    weights=<function gaussian_kernel at 0x000001AA4491D300>)}\", '# Games for training': 50000, '# Games for testing': 10000, 'Train Fit time': 57.002753496170044, 'Train R2 score': 0.8670784952066424, 'Train MSE': np.float64(9172.552710185391), 'Test Predict time': 515.7702121734619, 'Test R2 score': 0.3266532794246976, 'Test MSE': np.float64(48301.74579295615)}\n"
     ]
    },
    {
     "ename": "FileNotFoundError",
     "evalue": "[Errno 2] No such file or directory: 'test_reports/big_knn_report.json'",
     "output_type": "error",
     "traceback": [
      "\u001b[1;31m---------------------------------------------------------------------------\u001b[0m",
      "\u001b[1;31mFileNotFoundError\u001b[0m                         Traceback (most recent call last)",
      "Cell \u001b[1;32mIn[2], line 23\u001b[0m\n\u001b[0;32m     16\u001b[0m knn_pipe \u001b[38;5;241m=\u001b[39m Pipeline([\n\u001b[0;32m     17\u001b[0m     (\u001b[38;5;124m'\u001b[39m\u001b[38;5;124mGame to vec\u001b[39m\u001b[38;5;124m'\u001b[39m, FunctionTransformer(games_to_opening_vecs)),\n\u001b[0;32m     18\u001b[0m     (\u001b[38;5;124m'\u001b[39m\u001b[38;5;124mkNN\u001b[39m\u001b[38;5;124m'\u001b[39m, knn_model)\n\u001b[0;32m     19\u001b[0m ])\n\u001b[0;32m     21\u001b[0m \u001b[38;5;66;03m# 2 hyperparams to tune: # moves considered in game2vec; # neighbours considered\u001b[39;00m\n\u001b[1;32m---> 23\u001b[0m \u001b[43mtestbench\u001b[49m\u001b[38;5;241;43m.\u001b[39;49m\u001b[43mtest\u001b[49m\u001b[43m(\u001b[49m\u001b[43mknn_pipe\u001b[49m\u001b[43m,\u001b[49m\u001b[43m \u001b[49m\u001b[38;5;241;43m50000\u001b[39;49m\u001b[43m,\u001b[49m\u001b[43m \u001b[49m\u001b[38;5;241;43m10000\u001b[39;49m\u001b[43m,\u001b[49m\u001b[43m \u001b[49m\u001b[38;5;124;43m'\u001b[39;49m\u001b[38;5;124;43mbig_knn_report\u001b[39;49m\u001b[38;5;124;43m'\u001b[39;49m\u001b[43m,\u001b[49m\u001b[43m \u001b[49m\u001b[38;5;124;43m'\u001b[39;49m\u001b[38;5;124;43mkNN final performance test.\u001b[39;49m\u001b[38;5;124;43m'\u001b[39;49m\u001b[43m)\u001b[49m\n",
      "File \u001b[1;32m~\\OneDrive\\Desktop\\chess project\\codes\\testbench.py:124\u001b[0m, in \u001b[0;36mtest\u001b[1;34m(pipe, train_count, test_count, filename, description)\u001b[0m\n\u001b[0;32m    111\u001b[0m results \u001b[38;5;241m=\u001b[39m {\n\u001b[0;32m    112\u001b[0m     \u001b[38;5;124m'\u001b[39m\u001b[38;5;124mDescription\u001b[39m\u001b[38;5;124m'\u001b[39m: description,\n\u001b[0;32m    113\u001b[0m     \u001b[38;5;124m'\u001b[39m\u001b[38;5;124mPipeline\u001b[39m\u001b[38;5;124m'\u001b[39m: \u001b[38;5;28mstr\u001b[39m(pipe\u001b[38;5;241m.\u001b[39mnamed_steps),\n\u001b[1;32m   (...)\u001b[0m\n\u001b[0;32m    121\u001b[0m     \u001b[38;5;124m'\u001b[39m\u001b[38;5;124mTest MSE\u001b[39m\u001b[38;5;124m'\u001b[39m: test_MSE\n\u001b[0;32m    122\u001b[0m }\n\u001b[0;32m    123\u001b[0m \u001b[38;5;28mprint\u001b[39m(results)\n\u001b[1;32m--> 124\u001b[0m \u001b[38;5;28;01mwith\u001b[39;00m \u001b[38;5;28;43mopen\u001b[39;49m\u001b[43m(\u001b[49m\u001b[38;5;124;43mf\u001b[39;49m\u001b[38;5;124;43m'\u001b[39;49m\u001b[38;5;124;43mtest_reports/\u001b[39;49m\u001b[38;5;132;43;01m{\u001b[39;49;00m\u001b[43mfilename\u001b[49m\u001b[38;5;132;43;01m}\u001b[39;49;00m\u001b[38;5;124;43m.json\u001b[39;49m\u001b[38;5;124;43m'\u001b[39;49m\u001b[43m,\u001b[49m\u001b[43m \u001b[49m\u001b[38;5;124;43m'\u001b[39;49m\u001b[38;5;124;43mw\u001b[39;49m\u001b[38;5;124;43m'\u001b[39;49m\u001b[43m)\u001b[49m \u001b[38;5;28;01mas\u001b[39;00m file:\n\u001b[0;32m    125\u001b[0m     json\u001b[38;5;241m.\u001b[39mdump(results, file)\n",
      "\u001b[1;31mFileNotFoundError\u001b[0m: [Errno 2] No such file or directory: 'test_reports/big_knn_report.json'"
     ]
    }
   ],
   "source": [
    "from sklearn.preprocessing import FunctionTransformer\n",
    "from sklearn.pipeline import Pipeline\n",
    "from sklearn.neighbors import KNeighborsRegressor\n",
    "import testbench\n",
    "import chess_utils\n",
    "import numpy as np\n",
    "\n",
    "def games_to_opening_vecs(games):\n",
    "    return np.array(list(map(lambda game: chess_utils.game_to_vec(game, 35), games)))\n",
    "\n",
    "def gaussian_kernel(distances):\n",
    "    weights = np.exp(-75 * (distances ** 2))\n",
    "    return weights / np.sum(weights)\n",
    "\n",
    "knn_model = KNeighborsRegressor(n_neighbors = 12, weights = gaussian_kernel, metric='hamming')\n",
    "knn_pipe = Pipeline([\n",
    "    ('Game to vec', FunctionTransformer(games_to_opening_vecs)),\n",
    "    ('kNN', knn_model)\n",
    "])\n",
    "\n",
    "# 2 hyperparams to tune: # moves considered in game2vec; # neighbours considered\n",
    "\n",
    "testbench.test(knn_pipe, 50000, 10000, 'big_knn_report', 'kNN final performance test.')"
   ]
  },
  {
   "cell_type": "code",
   "execution_count": 18,
   "id": "e8246ea6-ca9d-47dd-b275-66e14b472778",
   "metadata": {},
   "outputs": [
    {
     "name": "stdout",
     "output_type": "stream",
     "text": [
      "(1, 2)\n",
      "Predicted White Elo: 1684.00\n",
      "Predicted Black Elo: 1776.49\n"
     ]
    }
   ],
   "source": [
    "import chess.pgn\n",
    "import io\n",
    "import numpy as np\n",
    "\n",
    "# The given PGN game\n",
    "pgn_text = \"\"\"[Event \"FICS rated standard game\"]\n",
    "[Site \"FICS freechess.org\"]\n",
    "[Date \"2020.06.30\"]\n",
    "[Round \"?\"]\n",
    "[White \"crashoverriiide\"]\n",
    "[Black \"YavChess\"]\n",
    "[Result \"1-0\"]\n",
    "[BlackClock \"0:15:00.000\"]\n",
    "[BlackElo \"1859\"]\n",
    "[BlackRD \"0.0\"]\n",
    "[ECO \"B27\"]\n",
    "[FICSGamesDBGameNo \"472656335\"]\n",
    "[PlyCount \"111\"]\n",
    "[Time \"23:29:00\"]\n",
    "[TimeControl \"900+0\"]\n",
    "[WhiteClock \"0:15:00.000\"]\n",
    "[WhiteElo \"1652\"]\n",
    "[WhiteRD \"0.0\"]\n",
    "\n",
    "1. e4 c5 2. Nf3 g6 3. Bc4 Bg7 4. c3 Nc6 5. O-O e6 6. Re1 Nge7 7. Bb3 O-O 8. d3 b5 9. Bg5 Bb7 10. Qd2 Re8 11. Bh6 Bh8 12. Bg5 Qc7 13. Qe3 Na5 14. Bc2 d5 15. Bxe7 Rxe7 16. d4 cxd4 17. Nxd4 Nc4 18. Qc1 a6 19. Nd2 Rc8 20. N2f3 Ne5 21. a3 Nd3 22. Bxd3 e5 23. Nc2 Rd7 24. Qh6 Bg7 25. Qh3 h6 26. Rad1 dxe4 27. Bxe4 Rxd1 28. Rxd1 Bxe4 29. Ne3 Rd8 30. Re1 Qc6 31. Qg4 Bxf3 32. gxf3 h5 33. Qg3 Rd3 34. Rd1 Rxd1+ 35. Nxd1 Qd5 36. Ne3 Qd2 37. Qg5 Kh7 38. Qe7 f5 39. Qb4 f4 40. Nf1 Qd5 41. Qe4 Qb3 42. Qb1 Qc4 43. Nd2 Qe2 44. Qc1 Bf8 45. Kg2 Bc5 46. Ne4 Be3 47. Qf1 Qxf1+ 48. Kxf1 Bc1 49. b3 Bxa3 50. Nf6+ Kh8 51. Nd7 Bd6 52. Nb6 Bc5 53. Nd5 a5 54. b4 a4 55. bxc5 Kg7 56. c6 { Black forfeits on time } 1-0\"\"\"\n",
    "\n",
    "# Parse the PGN\n",
    "pgn_io = io.StringIO(pgn_text)\n",
    "game = chess.pgn.read_game(pgn_io)\n",
    "\n",
    "# Convert a single game to a feature vector\n",
    "game_vector = chess_utils.game_to_vec(game, 35).reshape(1, -1)\n",
    "\n",
    "# Predict Elo directly using the kNN model (not the pipeline)\n",
    "predicted_elo = knn_model.predict(game_vector)\n",
    "\n",
    "print(predicted_elo.shape)\n",
    "\n",
    "white_elo, black_elo = predicted_elo.flatten()\n",
    "print(f\"Predicted White Elo: {white_elo:.2f}\")\n",
    "print(f\"Predicted Black Elo: {black_elo:.2f}\")\n"
   ]
  },
  {
   "cell_type": "code",
   "execution_count": null,
   "id": "feeef4c5-8595-4b60-bb67-aafff8fc2a29",
   "metadata": {},
   "outputs": [],
   "source": []
  }
 ],
 "metadata": {
  "kernelspec": {
   "display_name": "Python 3 (ipykernel)",
   "language": "python",
   "name": "python3"
  },
  "language_info": {
   "codemirror_mode": {
    "name": "ipython",
    "version": 3
   },
   "file_extension": ".py",
   "mimetype": "text/x-python",
   "name": "python",
   "nbconvert_exporter": "python",
   "pygments_lexer": "ipython3",
   "version": "3.13.0"
  }
 },
 "nbformat": 4,
 "nbformat_minor": 5
}
