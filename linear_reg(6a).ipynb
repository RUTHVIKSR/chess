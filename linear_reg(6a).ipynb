{
 "cells": [
  {
   "cell_type": "code",
   "execution_count": 1,
   "id": "cedc2041-5b98-4e81-87c9-022dd87cd6c5",
   "metadata": {},
   "outputs": [
    {
     "name": "stdout",
     "output_type": "stream",
     "text": [
      "{'Description': 'Linear Regression final performance test.', 'Pipeline': \"{'Game to vec': FunctionTransformer(func=<function games_to_opening_vecs at 0x000002B966ED0C20>), 'Linear Regression': LinearRegression()}\", '# Games for training': 50000, '# Games for testing': 10000, 'Train Fit time': 95.87950158119202, 'Train R2 score': 0.35269381443508024, 'Train MSE': np.float64(44667.439873125), 'Test Predict time': 11.718035697937012, 'Test R2 score': -1.760023251866375e+17, 'Test MSE': np.float64(1.2682270522786531e+22)}\n"
     ]
    }
   ],
   "source": [
    "from sklearn.preprocessing import FunctionTransformer\n",
    "from sklearn.pipeline import Pipeline\n",
    "from sklearn.linear_model import LinearRegression  # Changed model\n",
    "import testbench\n",
    "import chess_utils\n",
    "import numpy as np\n",
    "\n",
    "def games_to_opening_vecs(games):\n",
    "    return np.array(list(map(lambda game: chess_utils.game_to_vec(game, 35), games)))\n",
    "\n",
    "# Linear Regression model\n",
    "lr_model = LinearRegression()\n",
    "\n",
    "lr_pipe = Pipeline([\n",
    "    ('Game to vec', FunctionTransformer(games_to_opening_vecs)),\n",
    "    ('Linear Regression', lr_model)\n",
    "])\n",
    "\n",
    "# Run the test with the Linear Regression model\n",
    "testbench.test(lr_pipe, 50000, 10000, 'big_lr_report', 'Linear Regression final performance test.')\n"
   ]
  },
  {
   "cell_type": "code",
   "execution_count": 2,
   "id": "bc1d501d-68b1-4f5b-8145-b3f7bf8864df",
   "metadata": {},
   "outputs": [
    {
     "name": "stdout",
     "output_type": "stream",
     "text": [
      "Model saved successfully.\n"
     ]
    }
   ],
   "source": [
    "import joblib\n",
    "# Save the trained model to a file\n",
    "joblib.dump(lr_pipe, 'linear_regression_model.pkl')\n",
    "print(\"Model saved successfully.\")\n"
   ]
  },
  {
   "cell_type": "code",
   "execution_count": 4,
   "id": "9901080b-6419-4c71-a35b-8a937f290dbe",
   "metadata": {},
   "outputs": [
    {
     "name": "stdout",
     "output_type": "stream",
     "text": [
      "Model loaded successfully.\n"
     ]
    }
   ],
   "source": [
    "# Load the saved model\n",
    "loaded_model = joblib.load('linear_regression_model.pkl')\n",
    "print(\"Model loaded successfully.\")\n",
    "# You can now use it for predictions\n",
    "# Example:\n",
    "# predictions = loaded_model.predict(X_test)\n"
   ]
  },
  {
   "cell_type": "code",
   "execution_count": null,
   "id": "668fbd94-56e1-445c-b099-4b134a2ebb32",
   "metadata": {},
   "outputs": [],
   "source": []
  }
 ],
 "metadata": {
  "kernelspec": {
   "display_name": "Python 3 (ipykernel)",
   "language": "python",
   "name": "python3"
  },
  "language_info": {
   "codemirror_mode": {
    "name": "ipython",
    "version": 3
   },
   "file_extension": ".py",
   "mimetype": "text/x-python",
   "name": "python",
   "nbconvert_exporter": "python",
   "pygments_lexer": "ipython3",
   "version": "3.13.0"
  }
 },
 "nbformat": 4,
 "nbformat_minor": 5
}
