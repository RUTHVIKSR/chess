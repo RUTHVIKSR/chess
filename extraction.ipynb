{
 "cells": [
  {
   "cell_type": "code",
   "execution_count": 3,
   "id": "55e39418-7557-4071-9df7-96e801be63aa",
   "metadata": {},
   "outputs": [
    {
     "name": "stdout",
     "output_type": "stream",
     "text": [
      "✅ Extracted 1000 games...\n",
      "✅ Extracted 2000 games...\n",
      "✅ Extracted 3000 games...\n",
      "✅ Extracted 4000 games...\n",
      "✅ Extracted 5000 games...\n",
      "✅ Extracted 6000 games...\n",
      "✅ Extracted 7000 games...\n",
      "✅ Extracted 8000 games...\n",
      "✅ Extracted 9000 games...\n",
      "✅ Extracted 10000 games...\n",
      "\n",
      "🎯 Extraction completed! 10000 games saved to data/10000_games.pgn\n"
     ]
    }
   ],
   "source": [
    "import chess.pgn\n",
    "import os\n",
    "\n",
    "def extract_games(input_file, output_file, num_games=10000):\n",
    "    \"\"\"\n",
    "    Extracts the first `num_games` chess games from `input_file` and writes them to `output_file`.\n",
    "\n",
    "    Args:\n",
    "    - input_file (str): Path to the source PGN file.\n",
    "    - output_file (str): Path to save the extracted games.\n",
    "    - num_games (int): Number of games to extract (default: 10,000).\n",
    "    \"\"\"\n",
    "\n",
    "    # Ensure the output file is created or overwritten\n",
    "    if not os.path.exists(output_file):\n",
    "        with open(output_file, 'w') as f:\n",
    "            f.write(\"\")  # Create an empty PGN file\n",
    "    \n",
    "    with open(input_file, 'r') as infile, open(output_file, 'w') as outfile:\n",
    "        game_count = 0\n",
    "        while game_count < num_games:\n",
    "            game = chess.pgn.read_game(infile)\n",
    "            if game is None:\n",
    "                print(\"\\n⚠️  Reached end of the file before extracting all games.\")\n",
    "                break\n",
    "\n",
    "            outfile.write(str(game) + \"\\n\\n\")\n",
    "            game_count += 1\n",
    "\n",
    "            if game_count % 1000 == 0:\n",
    "                print(f\"✅ Extracted {game_count} games...\")\n",
    "\n",
    "        print(f\"\\n🎯 Extraction completed! {game_count} games saved to {output_file}\")\n",
    "\n",
    "\n",
    "# Example usage:\n",
    "# Extract 10,000 games from a 50,000-game PGN file and create the output file\n",
    "input_pgn = \"data/50000_games.pgn\"     # Source PGN file\n",
    "output_pgn = \"data/10000_games.pgn\"    # Output PGN file to create\n",
    "\n",
    "extract_games(\"data/std_train_big.clean.pgn\", output_pgn, num_games=10000)\n"
   ]
  },
  {
   "cell_type": "code",
   "execution_count": null,
   "id": "cba24b89-5f16-4eb1-80b7-9c37d2e5a926",
   "metadata": {},
   "outputs": [],
   "source": []
  }
 ],
 "metadata": {
  "kernelspec": {
   "display_name": "Python 3 (ipykernel)",
   "language": "python",
   "name": "python3"
  },
  "language_info": {
   "codemirror_mode": {
    "name": "ipython",
    "version": 3
   },
   "file_extension": ".py",
   "mimetype": "text/x-python",
   "name": "python",
   "nbconvert_exporter": "python",
   "pygments_lexer": "ipython3",
   "version": "3.13.0"
  }
 },
 "nbformat": 4,
 "nbformat_minor": 5
}
