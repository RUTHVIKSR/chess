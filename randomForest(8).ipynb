{
 "cells": [
  {
   "cell_type": "code",
   "execution_count": 1,
   "id": "db89a576-8f09-46b5-b323-cca26c5e500d",
   "metadata": {},
   "outputs": [
    {
     "name": "stdout",
     "output_type": "stream",
     "text": [
      "{'Description': 'Random Forest final performance test.', 'Pipeline': \"{'Game to vec': FunctionTransformer(func=<function games_to_opening_vecs at 0x000002BA2D3A9800>), 'Random Forest': RandomForestRegressor(max_depth=10, random_state=42)}\", '# Games for training': 50000, '# Games for testing': 10000, 'Train Fit time': 3173.173279762268, 'Train R2 score': 0.4042632057950498, 'Train MSE': np.float64(41106.59931734203), 'Test Predict time': 17.550851345062256, 'Test R2 score': 0.2757829638787851, 'Test MSE': np.float64(51961.47636837573)}\n"
     ]
    }
   ],
   "source": [
    "from sklearn.preprocessing import FunctionTransformer\n",
    "from sklearn.pipeline import Pipeline\n",
    "from sklearn.ensemble import RandomForestRegressor\n",
    "import testbench\n",
    "import chess_utils\n",
    "import numpy as np\n",
    "\n",
    "def games_to_opening_vecs(games):\n",
    "    return np.array(list(map(lambda game: chess_utils.game_to_vec(game, 35), games)))\n",
    "\n",
    "rf_model = RandomForestRegressor(n_estimators=100, max_depth=10, random_state=42)\n",
    "\n",
    "rf_pipe = Pipeline([\n",
    "    ('Game to vec', FunctionTransformer(games_to_opening_vecs)),\n",
    "    ('Random Forest', rf_model)\n",
    "])\n",
    "\n",
    "# 2 hyperparams to tune:\n",
    "# moves considered in game2vec; Random Forest hyperparameters\n",
    "\n",
    "testbench.test(rf_pipe, 50000, 10000, 'rf_report', 'Random Forest final performance test.')"
   ]
  },
  {
   "cell_type": "code",
   "execution_count": 3,
   "id": "2c700d27-b4d4-42df-bcbe-2f28647b8858",
   "metadata": {},
   "outputs": [
    {
     "name": "stdout",
     "output_type": "stream",
     "text": [
      "Model saved successfully!\n"
     ]
    }
   ],
   "source": [
    "import joblib\n",
    "\n",
    "# Save the trained pipeline\n",
    "joblib.dump(rf_pipe, 'models/random_pipeline.pkl')\n",
    "joblib.dump(rf_model, 'models/random_model.pkl')\n",
    "print(\"Model saved successfully!\")"
   ]
  },
  {
   "cell_type": "code",
   "execution_count": null,
   "id": "42edc7bb-f30c-432d-a5c2-65c2b1c4ccd4",
   "metadata": {},
   "outputs": [],
   "source": []
  }
 ],
 "metadata": {
  "kernelspec": {
   "display_name": "Python 3 (ipykernel)",
   "language": "python",
   "name": "python3"
  },
  "language_info": {
   "codemirror_mode": {
    "name": "ipython",
    "version": 3
   },
   "file_extension": ".py",
   "mimetype": "text/x-python",
   "name": "python",
   "nbconvert_exporter": "python",
   "pygments_lexer": "ipython3",
   "version": "3.13.0"
  }
 },
 "nbformat": 4,
 "nbformat_minor": 5
}
